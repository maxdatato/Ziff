{
 "cells": [
  {
   "cell_type": "code",
   "execution_count": 1,
   "metadata": {
    "scrolled": false
   },
   "outputs": [
    {
     "data": {
      "text/html": [
       "<div>\n",
       "<table border=\"1\" class=\"dataframe\">\n",
       "  <thead>\n",
       "    <tr style=\"text-align: right;\">\n",
       "      <th></th>\n",
       "      <th>State</th>\n",
       "      <th>Account Length</th>\n",
       "      <th>Area Code</th>\n",
       "      <th>Phone</th>\n",
       "      <th>Int'l Plan</th>\n",
       "      <th>VMail Plan</th>\n",
       "      <th>VMail Message</th>\n",
       "      <th>Day Mins</th>\n",
       "      <th>Day Calls</th>\n",
       "      <th>Day Charge</th>\n",
       "      <th>...</th>\n",
       "      <th>Eve Calls</th>\n",
       "      <th>Eve Charge</th>\n",
       "      <th>Night Mins</th>\n",
       "      <th>Night Calls</th>\n",
       "      <th>Night Charge</th>\n",
       "      <th>Intl Mins</th>\n",
       "      <th>Intl Calls</th>\n",
       "      <th>Intl Charge</th>\n",
       "      <th>CustServ Calls</th>\n",
       "      <th>Churn?</th>\n",
       "    </tr>\n",
       "  </thead>\n",
       "  <tbody>\n",
       "    <tr>\n",
       "      <th>0</th>\n",
       "      <td>KS</td>\n",
       "      <td>128</td>\n",
       "      <td>415</td>\n",
       "      <td>382-4657</td>\n",
       "      <td>no</td>\n",
       "      <td>yes</td>\n",
       "      <td>25</td>\n",
       "      <td>265.1</td>\n",
       "      <td>110</td>\n",
       "      <td>?</td>\n",
       "      <td>...</td>\n",
       "      <td>99</td>\n",
       "      <td>16.78</td>\n",
       "      <td>244.7</td>\n",
       "      <td>91</td>\n",
       "      <td>11.01</td>\n",
       "      <td>10.0</td>\n",
       "      <td>3</td>\n",
       "      <td>2.7</td>\n",
       "      <td>1</td>\n",
       "      <td>False.</td>\n",
       "    </tr>\n",
       "    <tr>\n",
       "      <th>1</th>\n",
       "      <td>OH</td>\n",
       "      <td>107</td>\n",
       "      <td>415</td>\n",
       "      <td>371-7191</td>\n",
       "      <td>no</td>\n",
       "      <td>yes</td>\n",
       "      <td>26</td>\n",
       "      <td>161.6</td>\n",
       "      <td>123</td>\n",
       "      <td>?</td>\n",
       "      <td>...</td>\n",
       "      <td>103</td>\n",
       "      <td>16.62</td>\n",
       "      <td>254.4</td>\n",
       "      <td>103</td>\n",
       "      <td>11.45</td>\n",
       "      <td>13.7</td>\n",
       "      <td>3</td>\n",
       "      <td>3.7</td>\n",
       "      <td>1</td>\n",
       "      <td>False.</td>\n",
       "    </tr>\n",
       "    <tr>\n",
       "      <th>2</th>\n",
       "      <td>NJ</td>\n",
       "      <td>137</td>\n",
       "      <td>415</td>\n",
       "      <td>358-1921</td>\n",
       "      <td>no</td>\n",
       "      <td>no</td>\n",
       "      <td>0</td>\n",
       "      <td>243.4</td>\n",
       "      <td>114</td>\n",
       "      <td>?</td>\n",
       "      <td>...</td>\n",
       "      <td>110</td>\n",
       "      <td>10.30</td>\n",
       "      <td>162.6</td>\n",
       "      <td>104</td>\n",
       "      <td>7.32</td>\n",
       "      <td>12.2</td>\n",
       "      <td>5</td>\n",
       "      <td>3.29</td>\n",
       "      <td>0</td>\n",
       "      <td>False.</td>\n",
       "    </tr>\n",
       "    <tr>\n",
       "      <th>3</th>\n",
       "      <td>OH</td>\n",
       "      <td>84</td>\n",
       "      <td>408</td>\n",
       "      <td>375-9999</td>\n",
       "      <td>yes</td>\n",
       "      <td>no</td>\n",
       "      <td>0</td>\n",
       "      <td>299.4</td>\n",
       "      <td>71</td>\n",
       "      <td>50.9</td>\n",
       "      <td>...</td>\n",
       "      <td>88</td>\n",
       "      <td>5.26</td>\n",
       "      <td>196.9</td>\n",
       "      <td>89</td>\n",
       "      <td>8.86</td>\n",
       "      <td>6.6</td>\n",
       "      <td>7</td>\n",
       "      <td>1.78</td>\n",
       "      <td>2</td>\n",
       "      <td>False.</td>\n",
       "    </tr>\n",
       "    <tr>\n",
       "      <th>4</th>\n",
       "      <td>OK</td>\n",
       "      <td>75</td>\n",
       "      <td>415</td>\n",
       "      <td>330-6626</td>\n",
       "      <td>yes</td>\n",
       "      <td>no</td>\n",
       "      <td>0</td>\n",
       "      <td>166.7</td>\n",
       "      <td>113</td>\n",
       "      <td>28.34</td>\n",
       "      <td>...</td>\n",
       "      <td>122</td>\n",
       "      <td>12.61</td>\n",
       "      <td>186.9</td>\n",
       "      <td>121</td>\n",
       "      <td>8.41</td>\n",
       "      <td>10.1</td>\n",
       "      <td>3</td>\n",
       "      <td>2.73</td>\n",
       "      <td>3</td>\n",
       "      <td>False.</td>\n",
       "    </tr>\n",
       "  </tbody>\n",
       "</table>\n",
       "<p>5 rows × 21 columns</p>\n",
       "</div>"
      ],
      "text/plain": [
       "  State  Account Length Area Code     Phone Int'l Plan VMail Plan  \\\n",
       "0    KS             128       415  382-4657         no        yes   \n",
       "1    OH             107       415  371-7191         no        yes   \n",
       "2    NJ             137       415  358-1921         no         no   \n",
       "3    OH              84       408  375-9999        yes         no   \n",
       "4    OK              75       415  330-6626        yes         no   \n",
       "\n",
       "   VMail Message  Day Mins  Day Calls Day Charge   ...   Eve Calls Eve Charge  \\\n",
       "0             25     265.1        110          ?   ...          99      16.78   \n",
       "1             26     161.6        123          ?   ...         103      16.62   \n",
       "2              0     243.4        114          ?   ...         110      10.30   \n",
       "3              0     299.4         71       50.9   ...          88       5.26   \n",
       "4              0     166.7        113      28.34   ...         122      12.61   \n",
       "\n",
       "   Night Mins  Night Calls  Night Charge Intl Mins  Intl Calls Intl Charge  \\\n",
       "0       244.7           91         11.01      10.0           3         2.7   \n",
       "1       254.4          103         11.45      13.7           3         3.7   \n",
       "2       162.6          104          7.32      12.2           5        3.29   \n",
       "3       196.9           89          8.86       6.6           7        1.78   \n",
       "4       186.9          121          8.41      10.1           3        2.73   \n",
       "\n",
       "  CustServ Calls  Churn?  \n",
       "0              1  False.  \n",
       "1              1  False.  \n",
       "2              0  False.  \n",
       "3              2  False.  \n",
       "4              3  False.  \n",
       "\n",
       "[5 rows x 21 columns]"
      ]
     },
     "execution_count": 1,
     "metadata": {},
     "output_type": "execute_result"
    }
   ],
   "source": [
    "# Importing the libraries\n",
    "import numpy as np\n",
    "import matplotlib.pyplot as plt\n",
    "import pandas as pd\n",
    "\n",
    "# Importing the dataset\n",
    "df = pd.read_csv('churn.csv',index_col=0)\n",
    "\n",
    "df.head()"
   ]
  },
  {
   "cell_type": "code",
   "execution_count": 2,
   "metadata": {},
   "outputs": [
    {
     "data": {
      "text/plain": [
       "Index(['State', 'Account Length', 'Area Code', 'Phone', 'Int'l Plan',\n",
       "       'VMail Plan', 'VMail Message', 'Day Mins', 'Day Calls', 'Day Charge',\n",
       "       'Eve Mins', 'Eve Calls', 'Eve Charge', 'Night Mins', 'Night Calls',\n",
       "       'Night Charge', 'Intl Mins', 'Intl Calls', 'Intl Charge',\n",
       "       'CustServ Calls', 'Churn?'],\n",
       "      dtype='object')"
      ]
     },
     "execution_count": 2,
     "metadata": {},
     "output_type": "execute_result"
    }
   ],
   "source": [
    "df.columns"
   ]
  },
  {
   "cell_type": "code",
   "execution_count": 3,
   "metadata": {},
   "outputs": [
    {
     "name": "stdout",
     "output_type": "stream",
     "text": [
      "There are 483 instances for churn class and 2850 instances for not-churn classes.\n",
      "Ratio of churn class over all instances: 0.14\n"
     ]
    }
   ],
   "source": [
    "# Encoding categorical data\n",
    "from sklearn.preprocessing import LabelEncoder, OneHotEncoder\n",
    "\n",
    "# Isolate target data\n",
    "churn_result = df['Churn?']\n",
    "y = np.where(churn_result == 'True.',1,0)\n",
    "# y = df.iloc[:, 20].values\n",
    "# labelencoder_y = LabelEncoder()\n",
    "# y = labelencoder_y.fit_transform(y)\n",
    "# df['Churn'] = (df['Churn?'] == 'True.')\n",
    "# y = df['Churn'].as_matrix().astype(np.int)\n",
    "print('There are {} instances for churn class and {} instances for not-churn classes.'.format(y.sum(), y.shape[0] - y.sum()))\n",
    "print('Ratio of churn class over all instances: {:.2f}'.format(float(y.sum()) / y.shape[0]))"
   ]
  },
  {
   "cell_type": "code",
   "execution_count": 4,
   "metadata": {
    "scrolled": true
   },
   "outputs": [],
   "source": [
    "# Encoding categorical data\n",
    "from sklearn.preprocessing import LabelEncoder, OneHotEncoder\n",
    "\n",
    "df2 = df\n",
    "\n",
    "# We don't need these columns\n",
    "to_drop = ['State','Area Code','Phone','Churn?']\n",
    "churn_feat_space = df.drop(to_drop,axis=1)\n",
    "\n",
    "# 'yes'/'no' has to be converted to boolean values\n",
    "# NumPy converts these from boolean to 1. and 0. later\n",
    "yes_no_cols = [\"Int'l Plan\",\"VMail Plan\"]\n",
    "churn_feat_space[yes_no_cols] = churn_feat_space[yes_no_cols] == 'yes'\n",
    "\n",
    "X = churn_feat_space\n",
    "\n",
    "# from sklearn.preprocessing import Imputer\n",
    "# imputer = Imputer(missing_values = '?', strategy = 'mean', axis = 0)\n",
    "# imputer = imputer.fit(X[:,1:10])\n",
    "# X = imputer.transform(X[:,1:10])\n",
    "\n",
    "X =X.replace('?','-1')\n",
    "\n",
    "# Pull out features for future use\n",
    "features = X.columns\n",
    "X = X.as_matrix().astype(np.float)\n",
    "\n",
    "# State is string and we want discre integer values\n",
    "# labelencoder = LabelEncoder()\n",
    "# df2['State'] = labelencoder.fit_transform(df2['State'])\n",
    "# Drop the redundant columns from dataframe\n",
    "# df2.drop(['Area Code','Phone','Churn','Churn?'], axis=1, inplace=True)\n",
    "# Get the features as integers similar to what we did for labels(targets)\n",
    "# df2[[\"Int'l Plan\",\"VMail Plan\"]] = df2[[\"Int'l Plan\",\"VMail Plan\"]] == 'yes'\n",
    "# df2.head(100)\n",
    "\n",
    "# labelencoder_X_1 = LabelEncoder()\n",
    "# X[:, 1] = labelencoder_X_1.fit_transform(X[:, 1])\n",
    "# labelencoder_X_2 = LabelEncoder()\n",
    "# X[:, 2] = labelencoder_X_2.fit_transform(X[:, 2])\n",
    "# onehotencoder = OneHotEncoder(categorical_features = [1])\n",
    "# X = onehotencoder.fit_transform(X).toarray()\n",
    "# X = X[:, 1:]"
   ]
  },
  {
   "cell_type": "code",
   "execution_count": 5,
   "metadata": {},
   "outputs": [
    {
     "data": {
      "text/plain": [
       "array([[ 128.  ,    0.  ,    1.  , ...,    3.  ,    2.7 ,    1.  ],\n",
       "       [ 107.  ,    0.  ,    1.  , ...,    3.  ,    3.7 ,    1.  ],\n",
       "       [ 137.  ,    0.  ,    0.  , ...,    5.  ,    3.29,    0.  ],\n",
       "       ..., \n",
       "       [  28.  ,    0.  ,    0.  , ...,    6.  ,    3.81,    2.  ],\n",
       "       [ 184.  ,    1.  ,    0.  , ...,   10.  ,    1.35,    2.  ],\n",
       "       [  74.  ,    0.  ,    1.  , ...,   -1.  ,    3.7 ,    0.  ]])"
      ]
     },
     "execution_count": 5,
     "metadata": {},
     "output_type": "execute_result"
    }
   ],
   "source": [
    "X"
   ]
  },
  {
   "cell_type": "code",
   "execution_count": 6,
   "metadata": {},
   "outputs": [
    {
     "name": "stdout",
     "output_type": "stream",
     "text": [
      "Feature space holds %d observations and %d features (3333, 17)\n",
      "Unique target labels: [0 1]\n"
     ]
    }
   ],
   "source": [
    "# This is important\n",
    "from sklearn.preprocessing import StandardScaler\n",
    "scaler = StandardScaler()\n",
    "X = scaler.fit_transform(X)\n",
    "\n",
    "print(\"Feature space holds %d observations and %d features\", X.shape)\n",
    "print (\"Unique target labels:\", np.unique(y))"
   ]
  },
  {
   "cell_type": "code",
   "execution_count": 7,
   "metadata": {
    "collapsed": true
   },
   "outputs": [],
   "source": [
    "from sklearn.model_selection import KFold\n",
    "from sklearn.metrics import roc_auc_score\n",
    "\n",
    "def run_cv(X,y,clf_class,**kwargs):\n",
    "    # Construct a kfolds object\n",
    "    kf = KFold(len(y),n_folds=10,shuffle=True)\n",
    "    y_pred = y.copy()\n",
    "\n",
    "    # Iterate through folds\n",
    "    for train_index, test_index in kf:\n",
    "        X_train, X_test = X[train_index], X[test_index]\n",
    "        y_train = y[train_index]\n",
    "        # Initialize a classifier with key word arguments\n",
    "        clf = clf_class(**kwargs)\n",
    "        clf.fit(X_train,y_train)\n",
    "        y_pred[test_index] = clf.predict(X_test)\n",
    "    return y_pred "
   ]
  },
  {
   "cell_type": "code",
   "execution_count": 8,
   "metadata": {
    "scrolled": false
   },
   "outputs": [
    {
     "name": "stdout",
     "output_type": "stream",
     "text": [
      "Dump Classifier:               0.500\n"
     ]
    },
    {
     "name": "stderr",
     "output_type": "stream",
     "text": [
      "/usr/local/lib/python3.4/dist-packages/sklearn/cross_validation.py:44: DeprecationWarning: This module was deprecated in version 0.18 in favor of the model_selection module into which all the refactored classes and functions are moved. Also note that the interface of the new CV iterators are different from that of this module. This module will be removed in 0.20.\n",
      "  \"This module will be removed in 0.20.\", DeprecationWarning)\n"
     ]
    },
    {
     "name": "stdout",
     "output_type": "stream",
     "text": [
      "Accuracy: 0.898 (0.020)\n",
      "Accuracy: 0.905 (0.024)\n"
     ]
    }
   ],
   "source": [
    "# from sklearn.metrics import accuracy_score as accuracy\n",
    "from sklearn.metrics import roc_auc_score as accuracy\n",
    "from sklearn import linear_model\n",
    "from sklearn import tree\n",
    "from sklearn import svm\n",
    "from sklearn import ensemble\n",
    "from sklearn import neighbors\n",
    "from sklearn.cross_validation import KFold\n",
    "from sklearn.cross_validation import StratifiedKFold\n",
    "from sklearn.model_selection import cross_val_score\n",
    "\n",
    "kf = KFold(len(y),n_folds=10,shuffle=True)\n",
    "kf2 = StratifiedKFold(y,n_folds=10,shuffle=True)\n",
    "\n",
    "print('Dump Classifier:               {:.3f}'.format(accuracy(y, [0 for ii in y.tolist()])))\n",
    "# print('Support vector machine(SVM):   {:.3f}'.format(accuracy(y, run_cv(X, y, svm.SVC))))\n",
    "# print('Decision Tree Classifier:      {:.3f}'.format(accuracy(y, run_cv(X, y, tree.DecisionTreeClassifier))))\n",
    "# print('Random Forest Classifier:      {:.3f}'.format(accuracy(y, run_cv(X, y, ensemble.RandomForestClassifier))))\n",
    "\n",
    "results = cross_val_score(ensemble.RandomForestClassifier(), X = X, y = y, scoring = \"roc_auc\", cv = kf)\n",
    "print(\"Accuracy: %.3f (%.3f)\" % (results.mean(), results.std()))\n",
    "\n",
    "# print('Gradient Boosting Classifier:  {:.3f}'.format(accuracy(y, run_cv(X, y, ensemble.GradientBoostingClassifier))))\n",
    "results = cross_val_score( ensemble.GradientBoostingClassifier(), X = X, y = y, scoring = \"roc_auc\", cv = kf)\n",
    "print(\"Accuracy: %.3f (%.3f)\" % (results.mean(), results.std()))"
   ]
  },
  {
   "cell_type": "code",
   "execution_count": 9,
   "metadata": {
    "collapsed": true
   },
   "outputs": [],
   "source": [
    "# Splitting the dataset into the Training set and Test set\n",
    "from sklearn.cross_validation import train_test_split\n",
    "X_train, X_test, y_train, y_test = train_test_split(X, y, test_size = 0.2, random_state = 0)\n",
    "\n",
    "# Feature Scaling\n",
    "from sklearn.preprocessing import StandardScaler\n",
    "sc_X = StandardScaler()\n",
    "X2 = sc_X.fit_transform(X)\n",
    "# sc_y = StandardScaler()\n",
    "# y = sc_y.fit_transform(y)\n",
    "\n",
    "X_train = sc_X.fit_transform(X_train)\n",
    "X_test = sc_X.transform(X_test)\n",
    "# y_train = sc_X.fit_transform(y_train)"
   ]
  },
  {
   "cell_type": "code",
   "execution_count": 10,
   "metadata": {},
   "outputs": [
    {
     "data": {
      "image/png": "[encoded data removed]",
      "text/plain": [
       "<matplotlib.figure.Figure at 0x7f0381350e10>"
      ]
     },
     "metadata": {},
     "output_type": "display_data"
    }
   ],
   "source": [
    "gbc = ensemble.GradientBoostingClassifier()\n",
    "gbc.fit(X2, y)\n",
    "# Get Feature Importance from the classifier\n",
    "feature_importance = gbc.feature_importances_\n",
    "# Normalize The Features\n",
    "feature_importance = 100.0 * (feature_importance / feature_importance.max())\n",
    "sorted_idx = np.argsort(feature_importance)\n",
    "pos = np.arange(sorted_idx.shape[0]) + .5\n",
    "plt.figure(figsize=(16, 12))\n",
    "plt.barh(pos, feature_importance[sorted_idx], align='center', color='#7A68A6')\n",
    "plt.yticks(pos, np.asanyarray(df.columns.tolist())[sorted_idx])\n",
    "plt.xlabel('Relative Importance')\n",
    "plt.title('Variable Importance')\n",
    "plt.show()"
   ]
  },
  {
   "cell_type": "code",
   "execution_count": 11,
   "metadata": {},
   "outputs": [
    {
     "name": "stderr",
     "output_type": "stream",
     "text": [
      "Using TensorFlow backend.\n"
     ]
    }
   ],
   "source": [
    "from keras.optimizers import SGD\n",
    "from keras.optimizers import RMSprop\n",
    "from keras.layers.core import Activation, Dense, Dropout\n",
    "from keras.models import Sequential\n",
    "\n",
    "def DefineModel1():    \n",
    "    model = Sequential()\n",
    "    model.add(Dense(128, activation='relu', input_dim=17))\n",
    "    model.add(Dense(32, activation='relu'))\n",
    "    model.add(Dense(1, activation='sigmoid'))\n",
    "    model.compile(optimizer='rmsprop', loss='binary_crossentropy', metrics=['accuracy'])\n",
    "    return model"
   ]
  },
  {
   "cell_type": "code",
   "execution_count": 12,
   "metadata": {},
   "outputs": [
    {
     "name": "stdout",
     "output_type": "stream",
     "text": [
      "Epoch 1/50\n",
      "1s - loss: 0.3789 - acc: 0.8590\n",
      "Epoch 2/50\n",
      "0s - loss: 0.2934 - acc: 0.8866\n",
      "Epoch 3/50\n",
      "0s - loss: 0.2591 - acc: 0.9058\n",
      "Epoch 4/50\n",
      "0s - loss: 0.2399 - acc: 0.9136\n",
      "Epoch 5/50\n",
      "0s - loss: 0.2267 - acc: 0.9238\n",
      "Epoch 6/50\n",
      "0s - loss: 0.2167 - acc: 0.9268\n",
      "Epoch 7/50\n",
      "0s - loss: 0.2098 - acc: 0.9301\n",
      "Epoch 8/50\n",
      "0s - loss: 0.2002 - acc: 0.9394\n",
      "Epoch 9/50\n",
      "0s - loss: 0.1937 - acc: 0.9388\n",
      "Epoch 10/50\n",
      "0s - loss: 0.1877 - acc: 0.9421\n",
      "Epoch 11/50\n",
      "0s - loss: 0.1809 - acc: 0.9400\n",
      "Epoch 12/50\n",
      "0s - loss: 0.1759 - acc: 0.9466\n",
      "Epoch 13/50\n",
      "0s - loss: 0.1682 - acc: 0.9475\n",
      "Epoch 14/50\n",
      "0s - loss: 0.1653 - acc: 0.9487\n",
      "Epoch 15/50\n",
      "0s - loss: 0.1602 - acc: 0.9517\n",
      "Epoch 16/50\n",
      "0s - loss: 0.1555 - acc: 0.9517\n",
      "Epoch 17/50\n",
      "0s - loss: 0.1521 - acc: 0.9550\n",
      "Epoch 18/50\n",
      "0s - loss: 0.1467 - acc: 0.9562\n",
      "Epoch 19/50\n",
      "0s - loss: 0.1444 - acc: 0.9568\n",
      "Epoch 20/50\n",
      "0s - loss: 0.1387 - acc: 0.9583\n",
      "Epoch 21/50\n",
      "0s - loss: 0.1369 - acc: 0.9565\n",
      "Epoch 22/50\n",
      "0s - loss: 0.1328 - acc: 0.9601\n",
      "Epoch 23/50\n",
      "0s - loss: 0.1297 - acc: 0.9619\n",
      "Epoch 24/50\n",
      "0s - loss: 0.1281 - acc: 0.9601\n",
      "Epoch 25/50\n",
      "0s - loss: 0.1241 - acc: 0.9613\n",
      "Epoch 26/50\n",
      "0s - loss: 0.1205 - acc: 0.9622\n",
      "Epoch 27/50\n",
      "0s - loss: 0.1194 - acc: 0.9598\n",
      "Epoch 28/50\n",
      "0s - loss: 0.1162 - acc: 0.9637\n",
      "Epoch 29/50\n",
      "0s - loss: 0.1128 - acc: 0.9652\n",
      "Epoch 30/50\n",
      "0s - loss: 0.1109 - acc: 0.9643\n",
      "Epoch 31/50\n",
      "0s - loss: 0.1086 - acc: 0.9652\n",
      "Epoch 32/50\n",
      "0s - loss: 0.1061 - acc: 0.9652\n",
      "Epoch 33/50\n",
      "0s - loss: 0.1025 - acc: 0.9667\n",
      "Epoch 34/50\n",
      "0s - loss: 0.1009 - acc: 0.9670\n",
      "Epoch 35/50\n",
      "0s - loss: 0.0968 - acc: 0.9685\n",
      "Epoch 36/50\n",
      "0s - loss: 0.0964 - acc: 0.9694\n",
      "Epoch 37/50\n",
      "0s - loss: 0.0949 - acc: 0.9694\n",
      "Epoch 38/50\n",
      "0s - loss: 0.0923 - acc: 0.9709\n",
      "Epoch 39/50\n",
      "0s - loss: 0.0890 - acc: 0.9691\n",
      "Epoch 40/50\n",
      "0s - loss: 0.0881 - acc: 0.9694\n",
      "Epoch 41/50\n",
      "0s - loss: 0.0845 - acc: 0.9721\n",
      "Epoch 42/50\n",
      "0s - loss: 0.0840 - acc: 0.9727\n",
      "Epoch 43/50\n",
      "0s - loss: 0.0803 - acc: 0.9727\n",
      "Epoch 44/50\n",
      "0s - loss: 0.0792 - acc: 0.9745\n",
      "Epoch 45/50\n",
      "0s - loss: 0.0779 - acc: 0.9742\n",
      "Epoch 46/50\n",
      "0s - loss: 0.0768 - acc: 0.9739\n",
      "Epoch 47/50\n",
      "0s - loss: 0.0739 - acc: 0.9781\n",
      "Epoch 48/50\n",
      "0s - loss: 0.0714 - acc: 0.9769\n",
      "Epoch 49/50\n",
      "0s - loss: 0.0693 - acc: 0.9778\n",
      "Epoch 50/50\n",
      "0s - loss: 0.0677 - acc: 0.9790\n"
     ]
    },
    {
     "data": {
      "text/plain": [
       "<keras.callbacks.History at 0x7f03218976d8>"
      ]
     },
     "execution_count": 12,
     "metadata": {},
     "output_type": "execute_result"
    }
   ],
   "source": [
    "model = DefineModel1()     \n",
    "model.fit(X, y, batch_size=32, epochs=50 , verbose=2)"
   ]
  },
  {
   "cell_type": "code",
   "execution_count": 13,
   "metadata": {},
   "outputs": [
    {
     "name": "stdout",
     "output_type": "stream",
     "text": [
      "Accuracy: 0.888 (0.029)\n"
     ]
    }
   ],
   "source": [
    "from sklearn.cross_validation import KFold\n",
    "from sklearn.cross_validation import StratifiedKFold\n",
    "from sklearn.model_selection import cross_val_score\n",
    "from sklearn.metrics import accuracy_score as accuracy\n",
    "from keras.wrappers.scikit_learn import KerasClassifier\n",
    "import numpy\n",
    "\n",
    "# create model\n",
    "model = KerasClassifier(build_fn=DefineModel1, epochs=50, batch_size=128, verbose=0)\n",
    "# evaluate using 10-fold cross validation\n",
    "# kf = KFold(len(y),n_folds=10,shuffle=True)\n",
    "kf2 = StratifiedKFold(y,n_folds=10,shuffle=True, random_state=7)\n",
    "results = cross_val_score(model, X, y,scoring = \"roc_auc\", cv=kf2)\n",
    "print(\"Accuracy: %.3f (%.3f)\" % (results.mean(), results.std()))"
   ]
  },
  {
   "cell_type": "markdown",
   "metadata": {},
   "source": [
    "# Summary of roc_auc:\n",
    "KerasClassifier: Accuracy: 0.888 (0.029)\n",
    "RandomForestClassifier Accuracy: 0.898 (0.020)\n",
    "GradientBoostingClassifier: 0.905 (0.024)"
   ]
  }
 ],
 "metadata": {
  "kernelspec": {
   "display_name": "Python 3",
   "language": "python",
   "name": "python3"
  },
  "language_info": {
   "codemirror_mode": {
    "name": "ipython",
    "version": 3
   },
   "file_extension": ".py",
   "mimetype": "text/x-python",
   "name": "python",
   "nbconvert_exporter": "python",
   "pygments_lexer": "ipython3",
   "version": "3.4.3"
  }
 },
 "nbformat": 4,
 "nbformat_minor": 1
}
