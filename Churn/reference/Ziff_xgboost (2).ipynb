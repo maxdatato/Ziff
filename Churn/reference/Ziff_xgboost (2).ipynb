{
 "cells": [
  {
   "cell_type": "code",
   "execution_count": 1,
   "metadata": {
    "scrolled": true
   },
   "outputs": [
    {
     "data": {
      "text/html": [
       "<div>\n",
       "<style>\n",
       "    .dataframe thead tr:only-child th {\n",
       "        text-align: right;\n",
       "    }\n",
       "\n",
       "    .dataframe thead th {\n",
       "        text-align: left;\n",
       "    }\n",
       "\n",
       "    .dataframe tbody tr th {\n",
       "        vertical-align: top;\n",
       "    }\n",
       "</style>\n",
       "<table border=\"1\" class=\"dataframe\">\n",
       "  <thead>\n",
       "    <tr style=\"text-align: right;\">\n",
       "      <th></th>\n",
       "      <th>State</th>\n",
       "      <th>Account Length</th>\n",
       "      <th>Area Code</th>\n",
       "      <th>Phone</th>\n",
       "      <th>Int'l Plan</th>\n",
       "      <th>VMail Plan</th>\n",
       "      <th>VMail Message</th>\n",
       "      <th>Day Mins</th>\n",
       "      <th>Day Calls</th>\n",
       "      <th>Day Charge</th>\n",
       "      <th>...</th>\n",
       "      <th>Eve Calls</th>\n",
       "      <th>Eve Charge</th>\n",
       "      <th>Night Mins</th>\n",
       "      <th>Night Calls</th>\n",
       "      <th>Night Charge</th>\n",
       "      <th>Intl Mins</th>\n",
       "      <th>Intl Calls</th>\n",
       "      <th>Intl Charge</th>\n",
       "      <th>CustServ Calls</th>\n",
       "      <th>Churn?</th>\n",
       "    </tr>\n",
       "  </thead>\n",
       "  <tbody>\n",
       "    <tr>\n",
       "      <th>0</th>\n",
       "      <td>KS</td>\n",
       "      <td>128</td>\n",
       "      <td>415</td>\n",
       "      <td>382-4657</td>\n",
       "      <td>no</td>\n",
       "      <td>yes</td>\n",
       "      <td>25</td>\n",
       "      <td>265.1</td>\n",
       "      <td>110</td>\n",
       "      <td>0</td>\n",
       "      <td>...</td>\n",
       "      <td>99</td>\n",
       "      <td>16.78</td>\n",
       "      <td>244.7</td>\n",
       "      <td>91</td>\n",
       "      <td>11.01</td>\n",
       "      <td>10.0</td>\n",
       "      <td>3</td>\n",
       "      <td>2.7</td>\n",
       "      <td>1</td>\n",
       "      <td>False.</td>\n",
       "    </tr>\n",
       "    <tr>\n",
       "      <th>1</th>\n",
       "      <td>OH</td>\n",
       "      <td>107</td>\n",
       "      <td>415</td>\n",
       "      <td>371-7191</td>\n",
       "      <td>no</td>\n",
       "      <td>yes</td>\n",
       "      <td>26</td>\n",
       "      <td>161.6</td>\n",
       "      <td>123</td>\n",
       "      <td>0</td>\n",
       "      <td>...</td>\n",
       "      <td>103</td>\n",
       "      <td>16.62</td>\n",
       "      <td>254.4</td>\n",
       "      <td>103</td>\n",
       "      <td>11.45</td>\n",
       "      <td>13.7</td>\n",
       "      <td>3</td>\n",
       "      <td>3.7</td>\n",
       "      <td>1</td>\n",
       "      <td>False.</td>\n",
       "    </tr>\n",
       "    <tr>\n",
       "      <th>2</th>\n",
       "      <td>NJ</td>\n",
       "      <td>137</td>\n",
       "      <td>415</td>\n",
       "      <td>358-1921</td>\n",
       "      <td>no</td>\n",
       "      <td>no</td>\n",
       "      <td>0</td>\n",
       "      <td>243.4</td>\n",
       "      <td>114</td>\n",
       "      <td>0</td>\n",
       "      <td>...</td>\n",
       "      <td>110</td>\n",
       "      <td>10.30</td>\n",
       "      <td>162.6</td>\n",
       "      <td>104</td>\n",
       "      <td>7.32</td>\n",
       "      <td>12.2</td>\n",
       "      <td>5</td>\n",
       "      <td>3.29</td>\n",
       "      <td>0</td>\n",
       "      <td>False.</td>\n",
       "    </tr>\n",
       "    <tr>\n",
       "      <th>3</th>\n",
       "      <td>OH</td>\n",
       "      <td>84</td>\n",
       "      <td>408</td>\n",
       "      <td>375-9999</td>\n",
       "      <td>yes</td>\n",
       "      <td>no</td>\n",
       "      <td>0</td>\n",
       "      <td>299.4</td>\n",
       "      <td>71</td>\n",
       "      <td>50.9</td>\n",
       "      <td>...</td>\n",
       "      <td>88</td>\n",
       "      <td>5.26</td>\n",
       "      <td>196.9</td>\n",
       "      <td>89</td>\n",
       "      <td>8.86</td>\n",
       "      <td>6.6</td>\n",
       "      <td>7</td>\n",
       "      <td>1.78</td>\n",
       "      <td>2</td>\n",
       "      <td>False.</td>\n",
       "    </tr>\n",
       "    <tr>\n",
       "      <th>4</th>\n",
       "      <td>OK</td>\n",
       "      <td>75</td>\n",
       "      <td>415</td>\n",
       "      <td>330-6626</td>\n",
       "      <td>yes</td>\n",
       "      <td>no</td>\n",
       "      <td>0</td>\n",
       "      <td>166.7</td>\n",
       "      <td>113</td>\n",
       "      <td>28.34</td>\n",
       "      <td>...</td>\n",
       "      <td>122</td>\n",
       "      <td>12.61</td>\n",
       "      <td>186.9</td>\n",
       "      <td>121</td>\n",
       "      <td>8.41</td>\n",
       "      <td>10.1</td>\n",
       "      <td>3</td>\n",
       "      <td>2.73</td>\n",
       "      <td>3</td>\n",
       "      <td>False.</td>\n",
       "    </tr>\n",
       "  </tbody>\n",
       "</table>\n",
       "<p>5 rows × 21 columns</p>\n",
       "</div>"
      ],
      "text/plain": [
       "  State  Account Length Area Code     Phone Int'l Plan VMail Plan  \\\n",
       "0    KS             128       415  382-4657         no        yes   \n",
       "1    OH             107       415  371-7191         no        yes   \n",
       "2    NJ             137       415  358-1921         no         no   \n",
       "3    OH              84       408  375-9999        yes         no   \n",
       "4    OK              75       415  330-6626        yes         no   \n",
       "\n",
       "   VMail Message  Day Mins  Day Calls Day Charge   ...   Eve Calls Eve Charge  \\\n",
       "0             25     265.1        110          0   ...          99      16.78   \n",
       "1             26     161.6        123          0   ...         103      16.62   \n",
       "2              0     243.4        114          0   ...         110      10.30   \n",
       "3              0     299.4         71       50.9   ...          88       5.26   \n",
       "4              0     166.7        113      28.34   ...         122      12.61   \n",
       "\n",
       "   Night Mins  Night Calls  Night Charge Intl Mins  Intl Calls Intl Charge  \\\n",
       "0       244.7           91         11.01      10.0           3         2.7   \n",
       "1       254.4          103         11.45      13.7           3         3.7   \n",
       "2       162.6          104          7.32      12.2           5        3.29   \n",
       "3       196.9           89          8.86       6.6           7        1.78   \n",
       "4       186.9          121          8.41      10.1           3        2.73   \n",
       "\n",
       "  CustServ Calls  Churn?  \n",
       "0              1  False.  \n",
       "1              1  False.  \n",
       "2              0  False.  \n",
       "3              2  False.  \n",
       "4              3  False.  \n",
       "\n",
       "[5 rows x 21 columns]"
      ]
     },
     "execution_count": 1,
     "metadata": {},
     "output_type": "execute_result"
    }
   ],
   "source": [
    "# Importing the libraries\n",
    "import numpy as np\n",
    "import matplotlib.pyplot as plt\n",
    "import pandas as pd\n",
    "\n",
    "# Importing the dataset\n",
    "df = pd.read_csv('churn.csv',index_col=0)\n",
    "df =df.replace('?','0')\n",
    "df.head()"
   ]
  },
  {
   "cell_type": "code",
   "execution_count": 2,
   "metadata": {},
   "outputs": [
    {
     "data": {
      "text/plain": [
       "Index(['State', 'Account Length', 'Area Code', 'Phone', 'Int'l Plan',\n",
       "       'VMail Plan', 'VMail Message', 'Day Mins', 'Day Calls', 'Day Charge',\n",
       "       'Eve Mins', 'Eve Calls', 'Eve Charge', 'Night Mins', 'Night Calls',\n",
       "       'Night Charge', 'Intl Mins', 'Intl Calls', 'Intl Charge',\n",
       "       'CustServ Calls', 'Churn?'],\n",
       "      dtype='object')"
      ]
     },
     "execution_count": 2,
     "metadata": {},
     "output_type": "execute_result"
    }
   ],
   "source": [
    "df.columns"
   ]
  },
  {
   "cell_type": "code",
   "execution_count": 3,
   "metadata": {},
   "outputs": [
    {
     "name": "stdout",
     "output_type": "stream",
     "text": [
      "There are 483 instances for churn class and 2850 instances for not-churn classes.\n",
      "Ratio of churn class over all instances: 0.14\n"
     ]
    }
   ],
   "source": [
    "# Encoding categorical data\n",
    "from sklearn.preprocessing import LabelEncoder, OneHotEncoder\n",
    "\n",
    "# Isolate target data\n",
    "churn_result = df['Churn?']\n",
    "y = np.where(churn_result == 'True.',1,0)\n",
    "# y = df.iloc[:, 20].values\n",
    "# labelencoder_y = LabelEncoder()\n",
    "# y = labelencoder_y.fit_transform(y)\n",
    "# df['Churn'] = (df['Churn?'] == 'True.')\n",
    "# y = df['Churn'].as_matrix().astype(np.int)\n",
    "print('There are {} instances for churn class and {} instances for not-churn classes.'.format(y.sum(), y.shape[0] - y.sum()))\n",
    "print('Ratio of churn class over all instances: {:.2f}'.format(float(y.sum()) / y.shape[0]))"
   ]
  },
  {
   "cell_type": "code",
   "execution_count": null,
   "metadata": {
    "scrolled": true
   },
   "outputs": [],
   "source": []
  },
  {
   "cell_type": "code",
   "execution_count": 4,
   "metadata": {
    "scrolled": true
   },
   "outputs": [],
   "source": [
    "# Encoding categorical data\n",
    "from sklearn.preprocessing import LabelEncoder, OneHotEncoder\n",
    "\n",
    "df2 = df\n",
    "\n",
    "# We don't need these columns\n",
    "to_drop = ['State','Area Code','Phone','Churn?']\n",
    "churn_feat_space = df.drop(to_drop,axis=1)\n",
    "\n",
    "# 'yes'/'no' has to be converted to boolean values\n",
    "# NumPy converts these from boolean to 1. and 0. later\n",
    "yes_no_cols = [\"Int'l Plan\",\"VMail Plan\"]\n",
    "churn_feat_space[yes_no_cols] = churn_feat_space[yes_no_cols] == 'yes'\n",
    "\n",
    "# Pull out features for future use\n",
    "features = churn_feat_space.columns\n",
    "X = churn_feat_space.as_matrix().astype(np.float)\n",
    "\n",
    "# State is string and we want discre integer values\n",
    "# labelencoder = LabelEncoder()\n",
    "# df2['State'] = labelencoder.fit_transform(df2['State'])\n",
    "# Drop the redundant columns from dataframe\n",
    "# df2.drop(['Area Code','Phone','Churn','Churn?'], axis=1, inplace=True)\n",
    "# Get the features as integers similar to what we did for labels(targets)\n",
    "# df2[[\"Int'l Plan\",\"VMail Plan\"]] = df2[[\"Int'l Plan\",\"VMail Plan\"]] == 'yes'\n",
    "# df2.head(100)\n",
    "\n",
    "# labelencoder_X_1 = LabelEncoder()\n",
    "# X[:, 1] = labelencoder_X_1.fit_transform(X[:, 1])\n",
    "# labelencoder_X_2 = LabelEncoder()\n",
    "# X[:, 2] = labelencoder_X_2.fit_transform(X[:, 2])\n",
    "# onehotencoder = OneHotEncoder(categorical_features = [1])\n",
    "# X = onehotencoder.fit_transform(X).toarray()\n",
    "# X = X[:, 1:]\n"
   ]
  },
  {
   "cell_type": "code",
   "execution_count": null,
   "metadata": {},
   "outputs": [],
   "source": []
  },
  {
   "cell_type": "code",
   "execution_count": 5,
   "metadata": {},
   "outputs": [
    {
     "name": "stdout",
     "output_type": "stream",
     "text": [
      "Feature space holds %d observations and %d features (3333, 17)\n",
      "Unique target labels: [0 1]\n"
     ]
    }
   ],
   "source": [
    "# This is important\n",
    "from sklearn.preprocessing import StandardScaler\n",
    "scaler = StandardScaler()\n",
    "X = scaler.fit_transform(X)\n",
    "\n",
    "print(\"Feature space holds %d observations and %d features\", X.shape)\n",
    "print (\"Unique target labels:\", np.unique(y))      "
   ]
  },
  {
   "cell_type": "code",
   "execution_count": null,
   "metadata": {},
   "outputs": [],
   "source": []
  },
  {
   "cell_type": "code",
   "execution_count": 6,
   "metadata": {},
   "outputs": [
    {
     "name": "stderr",
     "output_type": "stream",
     "text": [
      "/usr/local/lib/python3.4/dist-packages/sklearn/cross_validation.py:44: DeprecationWarning: This module was deprecated in version 0.18 in favor of the model_selection module into which all the refactored classes and functions are moved. Also note that the interface of the new CV iterators are different from that of this module. This module will be removed in 0.20.\n",
      "  \"This module will be removed in 0.20.\", DeprecationWarning)\n"
     ]
    }
   ],
   "source": [
    "# Splitting the dataset into the Training set and Test set\n",
    "from sklearn.cross_validation import train_test_split\n",
    "X_train, X_test, y_train, y_test = train_test_split(X, y, test_size = 0.2, random_state = 0)\n",
    "\n",
    "# Feature Scaling\n",
    "from sklearn.preprocessing import StandardScaler\n",
    "sc_X = StandardScaler()\n",
    "X = sc_X.fit_transform(X)\n",
    "# sc_y = StandardScaler()\n",
    "# y = sc_y.fit_transform(y)\n",
    "\n",
    "X_train = sc_X.fit_transform(X_train)\n",
    "X_test = sc_X.transform(X_test)\n",
    "# y_train = sc_X.fit_transform(y_train)\n"
   ]
  },
  {
   "cell_type": "code",
   "execution_count": null,
   "metadata": {},
   "outputs": [],
   "source": []
  },
  {
   "cell_type": "code",
   "execution_count": 7,
   "metadata": {},
   "outputs": [],
   "source": [
    "from sklearn.cross_validation import KFold\n",
    "def run_cv(X,y,clf_class,**kwargs):\n",
    "    # Construct a kfolds object\n",
    "    kf = KFold(len(y),n_folds=5,shuffle=True)\n",
    "    y_pred = y.copy()\n",
    "\n",
    "    # Iterate through folds\n",
    "    for train_index, test_index in kf:\n",
    "        X_train, X_test = X[train_index], X[test_index]\n",
    "        y_train = y[train_index]\n",
    "        # Initialize a classifier with key word arguments\n",
    "        clf = clf_class(**kwargs)\n",
    "        clf.fit(X_train,y_train)\n",
    "        y_pred[test_index] = clf.predict(X_test)\n",
    "    return y_pred"
   ]
  },
  {
   "cell_type": "code",
   "execution_count": 8,
   "metadata": {},
   "outputs": [],
   "source": [
    "from sklearn.cross_validation import StratifiedKFold\n",
    "\n",
    "def stratified_cv(X, y, clf_class, shuffle=True, n_folds=10, **kwargs):\n",
    "    stratified_k_fold = StratifiedKFold(y, n_folds=n_folds, shuffle=shuffle)\n",
    "    y_pred = y.copy()\n",
    "    for ii, jj in stratified_k_fold:\n",
    "        X_train, X_test = X[ii], X[jj]\n",
    "        y_train = y[ii]\n",
    "        clf = clf_class(**kwargs)\n",
    "        clf.fit(X_train,y_train)\n",
    "        y_pred[jj] = clf.predict(X_test)\n",
    "    return y_pred"
   ]
  },
  {
   "cell_type": "code",
   "execution_count": 9,
   "metadata": {},
   "outputs": [
    {
     "name": "stdout",
     "output_type": "stream",
     "text": [
      "Dump Classifier:               0.855\n",
      "Logistic Regression:           0.859\n",
      "K Nearest Neighbor Classifier: 0.878\n",
      "Support vector machine(SVM):   0.910\n",
      "Decision Tree Classifier:      0.902\n",
      "Random Forest Classifier:      0.928\n",
      "Gradient Boosting Classifier:  0.944\n",
      "XGBoost:                       0.936\n",
      "Logistic Regression:           0.860\n",
      "K Nearest Neighbor Classifier: 0.884\n",
      "Support vector machine(SVM):   0.913\n",
      "Decision Tree Classifier:      0.897\n",
      "Random Forest Classifier:      0.930\n",
      "Gradient Boosting Classifier:  0.945\n",
      "XGBoost:                       0.938\n"
     ]
    }
   ],
   "source": [
    "from sklearn.metrics import accuracy_score as accuracy\n",
    "from sklearn import linear_model\n",
    "from sklearn import tree\n",
    "from sklearn import svm\n",
    "from sklearn import ensemble\n",
    "from sklearn import neighbors\n",
    "from xgboost import XGBClassifier\n",
    "\n",
    "print('Dump Classifier:               {:.3f}'.format(accuracy(y, [0 for ii in y.tolist()])))\n",
    "print('Logistic Regression:           {:.3f}'.format(accuracy(y, run_cv(X, y, linear_model.LogisticRegression))))\n",
    "print('K Nearest Neighbor Classifier: {:.3f}'.format(accuracy(y, run_cv(X, y, neighbors.KNeighborsClassifier))))\n",
    "print('Support vector machine(SVM):   {:.3f}'.format(accuracy(y, run_cv(X, y, svm.SVC))))\n",
    "print('Decision Tree Classifier:      {:.3f}'.format(accuracy(y, run_cv(X, y, tree.DecisionTreeClassifier))))\n",
    "print('Random Forest Classifier:      {:.3f}'.format(accuracy(y, run_cv(X, y, ensemble.RandomForestClassifier))))\n",
    "print('Gradient Boosting Classifier:  {:.3f}'.format(accuracy(y, run_cv(X, y, ensemble.GradientBoostingClassifier))))\n",
    "print('XGBoost:                       {:.3f}'.format(accuracy(y, run_cv(X, y, XGBClassifier))))\n",
    "\n",
    "print('Logistic Regression:           {:.3f}'.format(accuracy(y, stratified_cv(X, y, linear_model.LogisticRegression))))\n",
    "print('K Nearest Neighbor Classifier: {:.3f}'.format(accuracy(y, stratified_cv(X, y, neighbors.KNeighborsClassifier))))\n",
    "print('Support vector machine(SVM):   {:.3f}'.format(accuracy(y, stratified_cv(X, y, svm.SVC))))\n",
    "print('Decision Tree Classifier:      {:.3f}'.format(accuracy(y, stratified_cv(X, y, tree.DecisionTreeClassifier))))\n",
    "print('Random Forest Classifier:      {:.3f}'.format(accuracy(y, stratified_cv(X, y, ensemble.RandomForestClassifier))))\n",
    "print('Gradient Boosting Classifier:  {:.3f}'.format(accuracy(y, stratified_cv(X, y, ensemble.GradientBoostingClassifier))))\n",
    "print('XGBoost:                       {:.3f}'.format(accuracy(y, stratified_cv(X, y, XGBClassifier))))"
   ]
  },
  {
   "cell_type": "code",
   "execution_count": null,
   "metadata": {
    "scrolled": true
   },
   "outputs": [],
   "source": []
  },
  {
   "cell_type": "code",
   "execution_count": 10,
   "metadata": {},
   "outputs": [],
   "source": [
    "from sklearn.metrics import confusion_matrix \n",
    "\n",
    "dumb_conf_matrix = confusion_matrix(y, [0 for ii in y.tolist()]); # ignore the warning as they are all 0\n",
    "logistic_reg_conf_matrix = confusion_matrix(y, stratified_cv(X, y, linear_model.LogisticRegression))\n",
    "k_neighbors_conf_matrix = confusion_matrix(y, stratified_cv(X, y, neighbors.KNeighborsClassifier))\n",
    "svm_svc_conf_matrix = confusion_matrix(y, stratified_cv(X, y, svm.SVC))\n",
    "decision_conf_matrix = confusion_matrix(y, stratified_cv(X, y, tree.DecisionTreeClassifier))\n",
    "random_forest_conf_matrix = confusion_matrix(y, stratified_cv(X, y, ensemble.RandomForestClassifier))\n",
    "grad_ens_conf_matrix = confusion_matrix(y, stratified_cv(X, y, ensemble.GradientBoostingClassifier))\n",
    "XGB_ens_conf_matrix = confusion_matrix(y, stratified_cv(X, y, XGBClassifier))"
   ]
  },
  {
   "cell_type": "code",
   "execution_count": 11,
   "metadata": {},
   "outputs": [
    {
     "name": "stderr",
     "output_type": "stream",
     "text": [
      "/usr/local/lib/python3.4/dist-packages/sklearn/metrics/classification.py:1113: UndefinedMetricWarning: Precision and F-score are ill-defined and being set to 0.0 in labels with no predicted samples.\n",
      "  'precision', 'predicted', average, warn_for)\n"
     ]
    },
    {
     "name": "stdout",
     "output_type": "stream",
     "text": [
      "Dump Classifier:\n",
      "              precision    recall  f1-score   support\n",
      "\n",
      "          0       0.86      1.00      0.92      2850\n",
      "          1       0.00      0.00      0.00       483\n",
      "\n",
      "avg / total       0.73      0.86      0.79      3333\n",
      "\n",
      "\n",
      "Logistic Regression:\n",
      "              precision    recall  f1-score   support\n",
      "\n",
      "          0       0.88      0.97      0.92      2850\n",
      "          1       0.54      0.19      0.28       483\n",
      "\n",
      "avg / total       0.83      0.86      0.83      3333\n",
      "\n",
      "\n",
      "Support vector machine(SVM):\n",
      "              precision    recall  f1-score   support\n",
      "\n",
      "          0       0.92      0.99      0.95      2850\n",
      "          1       0.87      0.48      0.62       483\n",
      "\n",
      "avg / total       0.91      0.91      0.90      3333\n",
      "\n",
      "\n",
      "Random Forest Classifier:\n",
      "              precision    recall  f1-score   support\n",
      "\n",
      "          0       0.94      0.99      0.96      2850\n",
      "          1       0.88      0.61      0.72       483\n",
      "\n",
      "avg / total       0.93      0.93      0.93      3333\n",
      "\n",
      "\n",
      "K Nearest Neighbor Classifier:\n",
      "              precision    recall  f1-score   support\n",
      "\n",
      "          0       0.90      0.98      0.94      2850\n",
      "          1       0.74      0.33      0.45       483\n",
      "\n",
      "avg / total       0.87      0.89      0.87      3333\n",
      "\n",
      "\n",
      "Gradient Boosting Classifier:\n",
      "              precision    recall  f1-score   support\n",
      "\n",
      "          0       0.95      0.99      0.97      2850\n",
      "          1       0.91      0.70      0.79       483\n",
      "\n",
      "avg / total       0.95      0.95      0.94      3333\n",
      "\n",
      "\n"
     ]
    }
   ],
   "source": [
    "from sklearn.metrics import classification_report \n",
    "\n",
    "print('Dump Classifier:\\n {}\\n'.format(classification_report(y, [0 for ii in y.tolist()]))); # ignore the warning as they are all 0\n",
    "print('Logistic Regression:\\n {}\\n'.format(classification_report(y, stratified_cv(X, y, linear_model.LogisticRegression))))\n",
    "print('Support vector machine(SVM):\\n {}\\n'.format(classification_report(y, stratified_cv(X, y, svm.SVC))))\n",
    "print('Random Forest Classifier:\\n {}\\n'.format(classification_report(y, stratified_cv(X, y, ensemble.RandomForestClassifier))))\n",
    "print('K Nearest Neighbor Classifier:\\n {}\\n'.format(classification_report(y, stratified_cv(X, y, neighbors.KNeighborsClassifier))))\n",
    "print('Gradient Boosting Classifier:\\n {}\\n'.format(classification_report(y, stratified_cv(X, y, ensemble.GradientBoostingClassifier))))\n",
    "\n"
   ]
  },
  {
   "cell_type": "code",
   "execution_count": 12,
   "metadata": {},
   "outputs": [
    {
     "data": {
      "image/png": "[encoded data removed]",
      "text/plain": [
       "<matplotlib.figure.Figure at 0x7fd66f2af358>"
      ]
     },
     "metadata": {},
     "output_type": "display_data"
    }
   ],
   "source": [
    "gbc = ensemble.GradientBoostingClassifier()\n",
    "gbc.fit(X, y)\n",
    "# Get Feature Importance from the classifier\n",
    "feature_importance = gbc.feature_importances_\n",
    "# Normalize The Features\n",
    "feature_importance = 100.0 * (feature_importance / feature_importance.max())\n",
    "sorted_idx = np.argsort(feature_importance)\n",
    "pos = np.arange(sorted_idx.shape[0]) + .5\n",
    "plt.figure(figsize=(16, 12))\n",
    "plt.barh(pos, feature_importance[sorted_idx], align='center', color='#7A68A6')\n",
    "plt.yticks(pos, np.asanyarray(df.columns.tolist())[sorted_idx])\n",
    "plt.xlabel('Relative Importance')\n",
    "plt.title('Variable Importance')\n",
    "plt.show()"
   ]
  },
  {
   "cell_type": "code",
   "execution_count": 13,
   "metadata": {},
   "outputs": [
    {
     "ename": "ValueError",
     "evalue": "could not convert string to float: 'False.'",
     "output_type": "error",
     "traceback": [
      "\u001b[0;31m---------------------------------------------------------------------------\u001b[0m",
      "\u001b[0;31mValueError\u001b[0m                                Traceback (most recent call last)",
      "\u001b[0;32m<ipython-input-13-0423923c546d>\u001b[0m in \u001b[0;36m<module>\u001b[0;34m()\u001b[0m\n\u001b[0;32m----> 1\u001b[0;31m \u001b[0mX\u001b[0m \u001b[0;34m=\u001b[0m \u001b[0mdf\u001b[0m\u001b[0;34m.\u001b[0m\u001b[0mas_matrix\u001b[0m\u001b[0;34m(\u001b[0m\u001b[0;34m)\u001b[0m\u001b[0;34m.\u001b[0m\u001b[0mastype\u001b[0m\u001b[0;34m(\u001b[0m\u001b[0mnp\u001b[0m\u001b[0;34m.\u001b[0m\u001b[0mfloat\u001b[0m\u001b[0;34m)\u001b[0m\u001b[0;34m\u001b[0m\u001b[0m\n\u001b[0m\u001b[1;32m      2\u001b[0m \u001b[0mpolynomial_features\u001b[0m \u001b[0;34m=\u001b[0m \u001b[0mpreprocessing\u001b[0m\u001b[0;34m.\u001b[0m\u001b[0mPolynomialFeatures\u001b[0m\u001b[0;34m(\u001b[0m\u001b[0;34m)\u001b[0m\u001b[0;34m\u001b[0m\u001b[0m\n\u001b[1;32m      3\u001b[0m \u001b[0mX\u001b[0m \u001b[0;34m=\u001b[0m \u001b[0mpolynomial_features\u001b[0m\u001b[0;34m.\u001b[0m\u001b[0mfit_transform\u001b[0m\u001b[0;34m(\u001b[0m\u001b[0mX\u001b[0m\u001b[0;34m)\u001b[0m\u001b[0;34m\u001b[0m\u001b[0m\n",
      "\u001b[0;31mValueError\u001b[0m: could not convert string to float: 'False.'"
     ]
    }
   ],
   "source": [
    "X = df.as_matrix().astype(np.float)\n",
    "polynomial_features = preprocessing.PolynomialFeatures()\n",
    "X = polynomial_features.fit_transform(X)"
   ]
  },
  {
   "cell_type": "code",
   "execution_count": null,
   "metadata": {
    "scrolled": true
   },
   "outputs": [],
   "source": [
    "print('Dump Classifier:\\n {}\\n'.format(metrics.classification_report(y, [0 for ii in y.tolist()]))); # ignore the warning as they are all 0\n",
    "print('Gradient Boosting Classifier:\\n {}\\n'.format(metrics.classification_report(y, stratified_cv(X, y, ensemble.GradientBoostingClassifier))))\n",
    "print('Support vector machine(SVM):\\n {}\\n'.format(metrics.classification_report(y, stratified_cv(X, y, svm.SVC))))\n",
    "print('Random Forest Classifier:\\n {}\\n'.format(metrics.classification_report(y, stratified_cv(X, y, ensemble.RandomForestClassifier))))\n",
    "print('K Nearest Neighbor Classifier:\\n {}\\n'.format(metrics.classification_report(y, stratified_cv(X, y, neighbors.KNeighborsClassifier))))\n",
    "print('Logistic Regression:\\n {}\\n'.format(metrics.classification_report(y, stratified_cv(X, y, linear_model.LogisticRegression))))\n"
   ]
  },
  {
   "cell_type": "code",
   "execution_count": null,
   "metadata": {
    "collapsed": true
   },
   "outputs": [],
   "source": [
    "X = df.as_matrix().astype(np.float)\n",
    "scaler = preprocessing.StandardScaler()\n",
    "X = scaler.fit_transform(X)\n",
    "polynomial_features = preprocessing.PolynomialFeatures()\n",
    "X = polynomial_features.fit_transform(X)"
   ]
  },
  {
   "cell_type": "code",
   "execution_count": null,
   "metadata": {},
   "outputs": [],
   "source": [
    "print('Passive Aggressive Classifier:\\n {}\\n'.format(metrics.classification_report(y, stratified_cv(X, y, linear_model.PassiveAggressiveClassifier))))\n",
    "print('Gradient Boosting Classifier:\\n {}\\n'.format(metrics.classification_report(y, stratified_cv(X, y, ensemble.GradientBoostingClassifier))))\n",
    "print('Support vector machine(SVM):\\n {}\\n'.format(metrics.classification_report(y, stratified_cv(X, y, svm.SVC))))\n",
    "print('Random Forest Classifier:\\n {}\\n'.format(metrics.classification_report(y, stratified_cv(X, y, ensemble.RandomForestClassifier))))\n",
    "print('K Nearest Neighbor Classifier:\\n {}\\n'.format(metrics.classification_report(y, stratified_cv(X, y, neighbors.KNeighborsClassifier))))\n",
    "print('Logistic Regression:\\n {}\\n'.format(metrics.classification_report(y, stratified_cv(X, y, linear_model.LogisticRegression))))\n",
    "print('Dump Classifier:\\n {}\\n'.format(metrics.classification_report(y, [0 for ii in y.tolist()]))); # ignore the warning as they are all 0"
   ]
  },
  {
   "cell_type": "code",
   "execution_count": null,
   "metadata": {
    "scrolled": true
   },
   "outputs": [],
   "source": [
    "# Making the Confusion Matrix\n",
    "from sklearn.metrics import confusion_matrix\n",
    "# cm = confusion_matrix(y_test, y_pred)\n",
    "\n",
    "# Applying k-Fold Cross Validation\n",
    "from sklearn.model_selection import cross_val_score\n",
    "accuracies = cross_val_score(estimator = classifier, X = X, y = y, cv = 10)\n",
    "accuracies.mean()\n",
    "accuracies.std()"
   ]
  },
  {
   "cell_type": "code",
   "execution_count": null,
   "metadata": {},
   "outputs": [],
   "source": []
  }
 ],
 "metadata": {
  "kernelspec": {
   "display_name": "Python 3",
   "language": "python",
   "name": "python3"
  },
  "language_info": {
   "codemirror_mode": {
    "name": "ipython",
    "version": 3
   },
   "file_extension": ".py",
   "mimetype": "text/x-python",
   "name": "python",
   "nbconvert_exporter": "python",
   "pygments_lexer": "ipython3",
   "version": "3.4.3"
  }
 },
 "nbformat": 4,
 "nbformat_minor": 2
}
