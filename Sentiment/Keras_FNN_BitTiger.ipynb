{
 "cells": [
  {
   "cell_type": "markdown",
   "metadata": {},
   "source": [
    "# Codelab for Feedforward Neural Net\n",
    "\n",
    "All rights reserved.\n",
    "\n",
    "This material cannot be published, rewritten or redistributed in whole or part without the authors' written permission.\n",
    "\n",
    "During tutorial/workshop, attendees will be separated into three groups. Each group will be conducting different activities.\n",
    "\n",
    "Activity: \"Cell\" $\\rightarrow$ \"Run All\" for testing the environment."
   ]
  },
  {
   "cell_type": "code",
   "execution_count": 1,
   "metadata": {},
   "outputs": [
    {
     "name": "stderr",
     "output_type": "stream",
     "text": [
      "Using TensorFlow backend.\n"
     ]
    }
   ],
   "source": [
    "################################################################\n",
    "#\n",
    "# All rights reserved.\n",
    "#\n",
    "# This is a codelab for Feedforward Neural Net.\n",
    "# Details include:\n",
    "#   - Pre-process dataset\n",
    "#   - Elaborate recipes\n",
    "#   - Define procedures\n",
    "#   - Train and test models\n",
    "#   - Observe metrics\n",
    "#\n",
    "################################################################\n",
    "from __future__ import print_function\n",
    "\n",
    "import keras.callbacks as cb\n",
    "from keras.datasets import mnist\n",
    "from keras.layers.core import Activation, Dense, Dropout\n",
    "from keras.models import Sequential\n",
    "from keras.optimizers import SGD\n",
    "from keras.regularizers import l1, l2\n",
    "from keras.utils import np_utils\n",
    "\n",
    "%matplotlib inline\n",
    "from matplotlib import pyplot as plt\n",
    "import numpy as np\n",
    "import time"
   ]
  },
  {
   "cell_type": "markdown",
   "metadata": {},
   "source": [
    "## Tutorial/workshop activity 1: Pre-processing\n",
    "\n",
    "Each group performs different types of data pre-processing:<br />\n",
    "1. Group A proceed w/o pre-processing datasets.\n",
    "2. Group B proceed w/ normalizing datasets into the range of [0, 1].\n",
    "3. Group C proceed w/ standardizing datasets by z-scoring (de-mean, uni-variance).\n",
    "\n",
    "[See results](#Observe-Training-Process)"
   ]
  },
  {
   "cell_type": "code",
   "execution_count": 2,
   "metadata": {},
   "outputs": [
    {
     "name": "stdout",
     "output_type": "stream",
     "text": [
      "Downloading data from https://s3.amazonaws.com/img-datasets/mnist.npz\n"
     ]
    }
   ],
   "source": [
    "def PreprocessDataset():\n",
    "    from sklearn import preprocessing\n",
    "    ## Load dataset\n",
    "    (x_train, y_train), (x_test, y_test) = mnist.load_data()\n",
    "    ## Transform labels to one-hot\n",
    "    ## i.e., from '7' to [0,0,0,0,0,0,0,1,0,0]\n",
    "    y_train = np_utils.to_categorical(y_train, 10)\n",
    "    y_test = np_utils.to_categorical(y_test, 10)\n",
    "    \n",
    "    ## Process features. Set numeric type\n",
    "    x_train = x_train.astype('float32')\n",
    "    x_test = x_test.astype('float32')\n",
    "    ## Reshape from a matrix of 28 x 28 pixels to 1-D vector of 784 dimensions\n",
    "    x_train = np.reshape(x_train, (60000, 784))\n",
    "    x_test = np.reshape(x_test, (10000, 784))\n",
    "\n",
    "    ################################################################\n",
    "    # Activity 1 (Pre-processing):\n",
    "    # Group A: w/o pre-processing datasets.\n",
    "    #\n",
    "    # Group B: Min-Max Normalize value to [0, 1]\n",
    "    # x_train /= 255\n",
    "    # x_test /= 255\n",
    "    #\n",
    "    # Group C: proceed w/ standardizing datasets by z-scoring (de-mean, uni-variance).\n",
    "    # x_train = preprocessing.scale(x_train)\n",
    "    # x_test = preprocessing.scale(x_test)\n",
    "    ################################################################  \n",
    "    ## YOUR TURN: CHANGE HERE\n",
    "    x_train /= 255\n",
    "    x_test /= 255\n",
    "\n",
    "    return x_train, x_test, y_train, y_test\n",
    "\n",
    "x_train, x_test, y_train, y_test = PreprocessDataset()"
   ]
  },
  {
   "cell_type": "code",
   "execution_count": 3,
   "metadata": {},
   "outputs": [
    {
     "name": "stdout",
     "output_type": "stream",
     "text": [
      "                     x                      |  y  \n",
      "==================================================\n",
      "0.00 0.00 ... 0.49 0.53 0.69 ...  0.00 0.00 |  0\n",
      "0.00 0.00 ... 0.99 0.99 0.99 ...  0.00 0.00 |  1\n",
      "0.00 0.00 ... 0.00 0.00 0.00 ...  0.00 0.00 |  0\n",
      "0.00 0.00 ... 0.00 0.00 0.49 ...  0.00 0.00 |  0\n",
      "0.00 0.00 ... 0.00 0.00 0.00 ...  0.00 0.00 |  0\n",
      "0.00 0.00 ... 0.10 0.39 0.48 ...  0.00 0.00 |  0\n",
      "0.00 0.00 ... 0.00 0.00 0.00 ...  0.00 0.00 |  0\n",
      "0.00 0.00 ... 0.99 0.99 0.99 ...  0.00 0.00 |  0\n",
      "0.00 0.00 ... 0.00 0.00 0.00 ...  0.00 0.00 |  0\n",
      "0.00 0.00 ... 0.00 0.00 0.00 ...  0.00 0.00 |  0\n"
     ]
    }
   ],
   "source": [
    "## Show part of training data: features and labels\n",
    "## Each row is a sample, and each column represents a feature.\n",
    "print(\"{:^43}\".format(\"x\"), \"|\", \"{:^4}\".format(\"y\"))\n",
    "print(\"=\"*50)\n",
    "for sample_id in range(10):\n",
    "    print(\"{:.2f} {:.2f} ... {:.2f} {:.2f} {:.2f} ...  {:.2f} {:.2f}\".format(\n",
    "            x_train[sample_id][0], x_train[sample_id][1],\n",
    "            x_train[sample_id][156], x_train[sample_id][157], x_train[sample_id][158],\n",
    "            x_train[sample_id][-2], x_train[sample_id][-1]), \"| \",\n",
    "           \"{:.0f}\".format(y_train[sample_id][0]))"
   ]
  },
  {
   "cell_type": "markdown",
   "metadata": {},
   "source": [
    "## Recipes for Neural Nets\n",
    "\n",
    "In this section you will play with useful recipes for designing a neural net.\n",
    "### Tutorial/workshop activity 2: Network Structure\n",
    "\n",
    "Each group uses different types of ingredients:<br />\n",
    "1. Group A uses **1** layer.\n",
    "2. Group B uses **2** layers of a **tower-shaped** (same width) network. \n",
    "3. Group C uses **2** layers of a **pyramid-shaped** (shrink width) network.\n",
    "\n",
    "[See results](#Observe-Training-Process)\n",
    "\n",
    "### Tutorial/workshop activity 3: Activation Function\n",
    "\n",
    "Each group uses different types of ingredients:\n",
    "1. Group A uses Relu.\n",
    "2. Group B uses Sigmoid.\n",
    "3. Group C uses Tanh.\n",
    "\n",
    "[See results](#Observe-Training-Process)\n",
    "\n",
    "### Tutorial/workshop activity 4: Loss Function\n",
    "\n",
    "Each group uses different types of ingredients:\n",
    "1. Group A uses cross entropy.\n",
    "2. Group B uses cross entropy.\n",
    "3. Group C uses squared error.\n",
    "\n",
    "[See results](#Observe-Training-Process)\n",
    "\n",
    "### Tutorial/workshop activity 5: Dropout\n",
    "\n",
    "Each group uses different types of ingredients:\n",
    "1. Group A uses 0% dropout.\n",
    "2. Group B uses 50% dropout.\n",
    "3. Group C uses 90% dropout.\n",
    "\n",
    "[See results](#Observe-Training-Process)\n",
    "\n",
    "### Tutorial/workshop activity 6: Regularization\n",
    "\n",
    "Each group uses different types of ingredients:\n",
    "1. Group A uses L1-norm.\n",
    "2. Group B uses L2-norm.\n",
    "3. Group C uses no regularization.\n",
    "\n",
    "[See results](#Observe-Training-Process)"
   ]
  },
  {
   "cell_type": "code",
   "execution_count": 4,
   "metadata": {
    "collapsed": true
   },
   "outputs": [],
   "source": [
    "def DefineModel():\n",
    "\n",
    "    ################################################################\n",
    "    # Activity 2 (Network Structure):\n",
    "    # Group A: uses only 1 layer\n",
    "    # second_layer_width = 0\n",
    "    #\n",
    "    # Group B: uses 2 layers of a tower-shaped (same width) network.\n",
    "    # second_layer_width = 128\n",
    "    #\n",
    "    # Group C: uses 2 layers of a pyramid-shaped (shrink width) network.\n",
    "    # second_layer_width = 64\n",
    "    ################################################################\n",
    "    first_layer_width = 128\n",
    "    second_layer_width = 64    \n",
    "    \n",
    "    ################################################################\n",
    "    # Activity 3 (Activation Function):\n",
    "    # Group A uses ReLU.\n",
    "    # activation_func = 'relu' \n",
    "    # \n",
    "    # Group B uses Sigmoid.\n",
    "    # activation_func = 'sigmoid'\n",
    "    #\n",
    "    # Group C uses Tanh.\n",
    "    # activation_func = 'tanh'\n",
    "    ################################################################\n",
    "    activation_func = 'relu' \n",
    "\n",
    "    ################################################################    \n",
    "    # Activity 4 (Loss Function):\n",
    "    # Group A uses cross entropy.\n",
    "    # loss_function = 'categorical_crossentropy'\n",
    "    # \n",
    "    # Group B uses cross entropy.\n",
    "    # loss_function = 'categorical_crossentropy'\n",
    "    # \n",
    "    # Group C uses squared error.\n",
    "    # loss_function = 'mean_squared_error'\n",
    "    ################################################################    \n",
    "    loss_function = 'categorical_crossentropy'\n",
    "    \n",
    "    #################################################################    \n",
    "    # Activity 5 (Dropout):\n",
    "    # Group A uses 0% dropout.\n",
    "    #\n",
    "    # Group B uses 50% dropout.\n",
    "    # dropout_rate = 0.5\n",
    "    #\n",
    "    # Group C uses 90% dropout.\n",
    "    # dropout_rate = 0.9\n",
    "    #################################################################    \n",
    "    dropout_rate = 0.0\n",
    "    \n",
    "    ################################################################    \n",
    "    # Activity 6 (Regularization):\n",
    "    # Group A uses L1 regularizer\n",
    "    # weight_regularizer = l1(0.01)\n",
    "    #\n",
    "    # Group B uses L2 regularizer\n",
    "    # weight_regularizer = l2(0.01)\n",
    "    # \n",
    "    # Group C uses no regularizer\n",
    "    # weight_regularizer = None\n",
    "    ################################################################\n",
    "    weight_regularizer = None\n",
    "\n",
    "    ################################################################    \n",
    "    # Activity 8 (Learning Rate):\n",
    "    # Group A uses learning rate of 0.1.\n",
    "    # learning_rate = 0.1\n",
    "    # \n",
    "    # Group B uses learning rate of 0.01.\n",
    "    # learning_rate = 0.01\n",
    "    #\n",
    "    # Group C uses learning rate of 0.5.    \n",
    "    # learning_rate = 0.5\n",
    "    ################################################################\n",
    "    learning_rate = 0.1\n",
    "    \n",
    "    ## Initialize model.\n",
    "    model = Sequential()\n",
    "\n",
    "    ## First hidden layer with 'first_layer_width' neurons. \n",
    "    ## Also need to specify input dimension.\n",
    "    ## 'Dense' means fully-connected.\n",
    "    model.add(Dense(first_layer_width, input_dim=784, W_regularizer=weight_regularizer))\n",
    "    model.add(Activation(activation_func))\n",
    "    if dropout_rate > 0:\n",
    "        model.add(Dropout(0.5))\n",
    "\n",
    "    ## Second hidden layer.\n",
    "    if second_layer_width > 0:\n",
    "        model.add(Dense(second_layer_width))\n",
    "        model.add(Activation(activation_func))\n",
    "        if dropout_rate > 0:\n",
    "            model.add(Dropout(0.5))         \n",
    "    \n",
    "    ## Last layer has the same dimension as the number of classes\n",
    "    model.add(Dense(10))\n",
    "    ## For classification, the activation is softmax\n",
    "    model.add(Activation('softmax'))\n",
    "    ## Define optimizer. In this tutorial/codelab, we select SGD.\n",
    "    ## You can also use other methods, e.g., opt = RMSprop()\n",
    "    opt = SGD(lr=learning_rate, clipnorm=5.)\n",
    "    ## Define loss function = 'categorical_crossentropy' or 'mean_squared_error'\n",
    "    model.compile(loss=loss_function, optimizer=opt, metrics=[\"accuracy\"])\n",
    "\n",
    "    return model"
   ]
  },
  {
   "cell_type": "markdown",
   "metadata": {},
   "source": [
    "## Define Training Procedure\n",
    "### Tutorial/workshop activity 7: Mini-batch\n",
    "\n",
    "Each group uses different types of ingredients:\n",
    "1. Group A uses mini-batch of size 128.\n",
    "2. Group B uses mini-batch of size 256.\n",
    "3. Group C uses mini-batch of size 512.\n",
    "\n",
    "[See results](#Observe-Training-Process)\n",
    "\n",
    "### Tutorial/workshop activity 8: Learning Rate\n",
    "\n",
    "Each group uses different types of ingredients:\n",
    "1. Group A uses learning rate of 0.1.\n",
    "2. Group B uses learning rate of 0.01.\n",
    "3. Group C uses learning rate of 0.5.\n",
    "\n",
    "[See results](#Observe-Training-Process)"
   ]
  },
  {
   "cell_type": "code",
   "execution_count": 5,
   "metadata": {
    "collapsed": true
   },
   "outputs": [],
   "source": [
    "def TrainModel(data=None, epochs=20):\n",
    "    ################################################################\n",
    "    # Activity 7 (Mini-batch):\n",
    "    # Group A uses mini-batch of size 128.\n",
    "    # batch = 128\n",
    "    #\n",
    "    # Group B uses mini-batch of size 256.\n",
    "    # batch = 256\n",
    "    # \n",
    "    # Group C uses mini-batch of size 512.\n",
    "    # batch = 512\n",
    "    ################################################################\n",
    "    batch=128\n",
    "    start_time = time.time()\n",
    "    model = DefineModel()\n",
    "    if data is None:\n",
    "        print(\"Must provide data.\")\n",
    "        return\n",
    "    x_train, x_test, y_train, y_test = data\n",
    "    print('Start training.')\n",
    "    ## Use the first 55,000 (out of 60,000) samples to train, last 5,500 samples to validate.\n",
    "    history = model.fit(x_train[:55000], y_train[:55000], nb_epoch=epochs, batch_size=batch,\n",
    "              validation_data=(x_train[55000:], y_train[55000:]))\n",
    "    print(\"Training took {0} seconds.\".format(time.time() - start_time))\n",
    "    return model, history"
   ]
  },
  {
   "cell_type": "markdown",
   "metadata": {},
   "source": [
    "## Start Training"
   ]
  },
  {
   "cell_type": "code",
   "execution_count": 6,
   "metadata": {
    "scrolled": true
   },
   "outputs": [
    {
     "name": "stdout",
     "output_type": "stream",
     "text": [
      "Start training.\n"
     ]
    },
    {
     "name": "stderr",
     "output_type": "stream",
     "text": [
      "/usr/local/lib/python3.4/dist-packages/ipykernel_launcher.py:87: UserWarning: Update your `Dense` call to the Keras 2 API: `Dense(128, kernel_regularizer=None, input_dim=784)`\n",
      "/usr/local/lib/python3.4/dist-packages/keras/models.py:826: UserWarning: The `nb_epoch` argument in `fit` has been renamed `epochs`.\n",
      "  warnings.warn('The `nb_epoch` argument in `fit` '\n"
     ]
    },
    {
     "name": "stdout",
     "output_type": "stream",
     "text": [
      "Train on 55000 samples, validate on 5000 samples\n",
      "Epoch 1/20\n",
      "55000/55000 [==============================] - 2s - loss: 0.4521 - acc: 0.8702 - val_loss: 0.2133 - val_acc: 0.9398\n",
      "Epoch 2/20\n",
      "55000/55000 [==============================] - 1s - loss: 0.2154 - acc: 0.9367 - val_loss: 0.1414 - val_acc: 0.9642\n",
      "Epoch 3/20\n",
      "55000/55000 [==============================] - 1s - loss: 0.1617 - acc: 0.9527 - val_loss: 0.1290 - val_acc: 0.9650\n",
      "Epoch 4/20\n",
      "55000/55000 [==============================] - 1s - loss: 0.1307 - acc: 0.9626 - val_loss: 0.1009 - val_acc: 0.9728\n",
      "Epoch 5/20\n",
      "55000/55000 [==============================] - 1s - loss: 0.1093 - acc: 0.9687 - val_loss: 0.0913 - val_acc: 0.9746\n",
      "Epoch 6/20\n",
      "55000/55000 [==============================] - 1s - loss: 0.0933 - acc: 0.9734 - val_loss: 0.0866 - val_acc: 0.9772\n",
      "Epoch 7/20\n",
      "55000/55000 [==============================] - 1s - loss: 0.0817 - acc: 0.9761 - val_loss: 0.0836 - val_acc: 0.9784\n",
      "Epoch 8/20\n",
      "55000/55000 [==============================] - 1s - loss: 0.0718 - acc: 0.9795 - val_loss: 0.0844 - val_acc: 0.9750\n",
      "Epoch 9/20\n",
      "55000/55000 [==============================] - 1s - loss: 0.0639 - acc: 0.9816 - val_loss: 0.0812 - val_acc: 0.9784\n",
      "Epoch 10/20\n",
      "55000/55000 [==============================] - 1s - loss: 0.0575 - acc: 0.9831 - val_loss: 0.0732 - val_acc: 0.9802\n",
      "Epoch 11/20\n",
      "55000/55000 [==============================] - 1s - loss: 0.0511 - acc: 0.9853 - val_loss: 0.0710 - val_acc: 0.9802\n",
      "Epoch 12/20\n",
      "55000/55000 [==============================] - 1s - loss: 0.0461 - acc: 0.9865 - val_loss: 0.0741 - val_acc: 0.9808\n",
      "Epoch 13/20\n",
      "55000/55000 [==============================] - 1s - loss: 0.0413 - acc: 0.9885 - val_loss: 0.0701 - val_acc: 0.9816\n",
      "Epoch 14/20\n",
      "55000/55000 [==============================] - 1s - loss: 0.0376 - acc: 0.9897 - val_loss: 0.0667 - val_acc: 0.9814\n",
      "Epoch 15/20\n",
      "55000/55000 [==============================] - 1s - loss: 0.0338 - acc: 0.9909 - val_loss: 0.0705 - val_acc: 0.9810\n",
      "Epoch 16/20\n",
      "55000/55000 [==============================] - 1s - loss: 0.0310 - acc: 0.9922 - val_loss: 0.0668 - val_acc: 0.9824\n",
      "Epoch 17/20\n",
      "55000/55000 [==============================] - 1s - loss: 0.0278 - acc: 0.9929 - val_loss: 0.0671 - val_acc: 0.9830\n",
      "Epoch 18/20\n",
      "55000/55000 [==============================] - 1s - loss: 0.0251 - acc: 0.9934 - val_loss: 0.0676 - val_acc: 0.9832\n",
      "Epoch 19/20\n",
      "55000/55000 [==============================] - 1s - loss: 0.0221 - acc: 0.9946 - val_loss: 0.0726 - val_acc: 0.9806\n",
      "Epoch 20/20\n",
      "55000/55000 [==============================] - 1s - loss: 0.0205 - acc: 0.9954 - val_loss: 0.0679 - val_acc: 0.9814\n",
      "Training took 30.33214235305786 seconds.\n"
     ]
    }
   ],
   "source": [
    "trained_model, training_history = TrainModel(data=[x_train, x_test, y_train, y_test])"
   ]
  },
  {
   "cell_type": "markdown",
   "metadata": {},
   "source": [
    "## Define Plotting"
   ]
  },
  {
   "cell_type": "code",
   "execution_count": 7,
   "metadata": {
    "collapsed": true
   },
   "outputs": [],
   "source": [
    "def PlotHistory(train_value, test_value, value_is_loss_or_acc):\n",
    "    f, ax = plt.subplots()\n",
    "    ax.plot([None] + train_value, 'o-')\n",
    "    ax.plot([None] + test_value, 'x-')\n",
    "    ## Plot legend and use the best location automatically: loc = 0.\n",
    "    ax.legend(['Train ' + value_is_loss_or_acc, 'Validation ' + value_is_loss_or_acc], loc = 0) \n",
    "    ax.set_title('Training/Validation ' + value_is_loss_or_acc + ' per Epoch')\n",
    "    ax.set_xlabel('Epoch')\n",
    "    ax.set_ylabel(value_is_loss_or_acc)  \n",
    " "
   ]
  },
  {
   "cell_type": "markdown",
   "metadata": {},
   "source": [
    "## Observe Training Process"
   ]
  },
  {
   "cell_type": "code",
   "execution_count": 8,
   "metadata": {},
   "outputs": [
    {
     "data": {
      "image/png": "[encoded data removed]",
      "text/plain": [
       "<matplotlib.figure.Figure at 0x7f41f70a0dd8>"
      ]
     },
     "metadata": {},
     "output_type": "display_data"
    },
    {
     "data": {
      "image/png": "[encoded data removed]",
      "text/plain": [
       "<matplotlib.figure.Figure at 0x7f41f70a0d30>"
      ]
     },
     "metadata": {},
     "output_type": "display_data"
    }
   ],
   "source": [
    "PlotHistory(training_history.history['loss'], training_history.history['val_loss'], 'Loss')\n",
    "PlotHistory(training_history.history['acc'], training_history.history['val_acc'], 'Accuracy')"
   ]
  },
  {
   "cell_type": "markdown",
   "metadata": {},
   "source": [
    "## Observe Regularization Effects\n"
   ]
  },
  {
   "cell_type": "code",
   "execution_count": 9,
   "metadata": {
    "collapsed": true
   },
   "outputs": [],
   "source": [
    "def drawWeightHistogram(x):\n",
    "    ## the histogram of the data\n",
    "    fig = plt.subplots()\n",
    "    n, bins, patches = plt.hist(x, 50)\n",
    "    plt.xlim(-0.5, 0.5)\n",
    "    plt.xlabel('Weight')\n",
    "    plt.ylabel('Count')\n",
    "    zero_counts = (x == 0.0).sum()\n",
    "    plt.title(\"Weight Histogram. Num of '0's: %d\" % zero_counts)"
   ]
  },
  {
   "cell_type": "code",
   "execution_count": 10,
   "metadata": {
    "scrolled": true
   },
   "outputs": [
    {
     "data": {
      "image/png": "[encoded data removed]",
      "text/plain": [
       "<matplotlib.figure.Figure at 0x7f41b2793d68>"
      ]
     },
     "metadata": {},
     "output_type": "display_data"
    }
   ],
   "source": [
    "w1 = trained_model.layers[0].get_weights()[0].flatten()\n",
    "drawWeightHistogram(w1)"
   ]
  },
  {
   "cell_type": "markdown",
   "metadata": {},
   "source": [
    "## Define Testing Procedure\n"
   ]
  },
  {
   "cell_type": "code",
   "execution_count": 11,
   "metadata": {
    "collapsed": true
   },
   "outputs": [],
   "source": [
    "def TestModel(model=None, data=None):\n",
    "    if model is None:\n",
    "        print(\"Must provide a trained model.\")\n",
    "        return\n",
    "    if data is None:\n",
    "        print(\"Must provide data.\")\n",
    "        return\n",
    "    x_test, y_test = data\n",
    "    scores = model.evaluate(x_test, y_test)\n",
    "    return scores"
   ]
  },
  {
   "cell_type": "markdown",
   "metadata": {},
   "source": [
    "## Test Trained Model\n"
   ]
  },
  {
   "cell_type": "code",
   "execution_count": 12,
   "metadata": {},
   "outputs": [
    {
     "name": "stdout",
     "output_type": "stream",
     "text": [
      " 9728/10000 [============================>.] - ETA: 0sTest loss 0.0753, accuracy 97.82%\n"
     ]
    }
   ],
   "source": [
    "test_score = TestModel(model=trained_model, data=[x_test, y_test])\n",
    "print(\"Test loss {:.4f}, accuracy {:.2f}%\".format(test_score[0], test_score[1] * 100))"
   ]
  },
  {
   "cell_type": "code",
   "execution_count": 13,
   "metadata": {},
   "outputs": [
    {
     "data": {
      "image/png": "[encoded data removed]",
      "text/plain": [
       "<matplotlib.figure.Figure at 0x7f41b2785128>"
      ]
     },
     "metadata": {},
     "output_type": "display_data"
    },
    {
     "data": {
      "image/png": "[encoded data removed]",
      "text/plain": [
       "<matplotlib.figure.Figure at 0x7f41b2682ba8>"
      ]
     },
     "metadata": {},
     "output_type": "display_data"
    },
    {
     "name": "stdout",
     "output_type": "stream",
     "text": [
      "Final prediction: 7\n"
     ]
    }
   ],
   "source": [
    "def ShowInputImage(data):\n",
    "    \"\"\"Visualize input image.\"\"\"\n",
    "    plot = plt.figure()\n",
    "    plot.set_size_inches(2,2)\n",
    "    plt.imshow(np.reshape(-data, (28,28)), cmap='Greys_r')\n",
    "    plt.title(\"Input\")\n",
    "    plt.axis('off')\n",
    "    plt.show()\n",
    "    \n",
    "def ShowHiddenLayerOutput(input_data, target_layer_num):\n",
    "    \"\"\"Visualize output from the target hidden layer.\"\"\"\n",
    "    from keras import backend as K\n",
    "    ## Backend converter: to TensorFlow\n",
    "    target_layer = K.function(trained_model.inputs, [trained_model.layers[target_layer_num].output])\n",
    "    ## Extract output from the target hidden layer.\n",
    "    target_layer_out = target_layer([input_data])\n",
    "    plot = plt.figure()\n",
    "    plot.set_size_inches(2,2)\n",
    "    plt.imshow(np.reshape(-target_layer_out[0][0], (16,-1)), cmap='Greys_r')\n",
    "    plt.title(\"Hidden layer \" + str(target_layer_num))\n",
    "    plt.axis('off')\n",
    "    plt.show()\n",
    "\n",
    "def ShowFinalOutput(input_data):\n",
    "    \"\"\"Calculate final prediction.\"\"\"\n",
    "    from keras import backend as K\n",
    "    ## Backend converter: to TensorFlow\n",
    "    ## Calculate final prediction.\n",
    "    last_layer = K.function(trained_model.inputs, [trained_model.layers[-1].output])\n",
    "    last_layer_out = last_layer([input_data])\n",
    "    print(\"Final prediction: \" + str(np.argmax(last_layer_out[0][0])) )\n",
    "\n",
    "ShowInputImage(x_test[0])\n",
    "ShowHiddenLayerOutput(x_test, 1)\n",
    "ShowFinalOutput(x_test)"
   ]
  },
  {
   "cell_type": "code",
   "execution_count": null,
   "metadata": {
    "collapsed": true
   },
   "outputs": [],
   "source": []
  }
 ],
 "metadata": {
  "anaconda-cloud": {},
  "celltoolbar": "Raw Cell Format",
  "kernelspec": {
   "display_name": "Python 3",
   "language": "python",
   "name": "python3"
  },
  "language_info": {
   "codemirror_mode": {
    "name": "ipython",
    "version": 3
   },
   "file_extension": ".py",
   "mimetype": "text/x-python",
   "name": "python",
   "nbconvert_exporter": "python",
   "pygments_lexer": "ipython3",
   "version": "3.4.3"
  }
 },
 "nbformat": 4,
 "nbformat_minor": 1
}
